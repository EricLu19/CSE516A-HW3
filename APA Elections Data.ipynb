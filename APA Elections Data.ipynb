{
 "cells": [
  {
   "cell_type": "code",
   "execution_count": 42,
   "metadata": {},
   "outputs": [
    {
     "name": "stdout",
     "output_type": "stream",
     "text": [
      "[[1145, 4], [1125, 1], [1019, 0], [516, 0, 1, 3, 2, 4], [396, 4, 1], [377, 1, 0, 3, 2, 4], [376, 0, 1, 2, 3, 4], [338, 3], [306, 1, 0], [283, 1, 0, 2, 3, 4]]\n"
     ]
    }
   ],
   "source": [
    "path = \"/Users/ericlu/Downloads/APA_Election.txt\"\n",
    "file = open(path, \"r\").readlines()[7:]\n",
    "preferences = []\n",
    "for line in file:\n",
    "    preferences.append([int(i.strip(\"\\n\")) for i in line.split(\",\")])\n",
    "print(preferences[:10])"
   ]
  },
  {
   "cell_type": "code",
   "execution_count": 80,
   "metadata": {},
   "outputs": [
    {
     "name": "stdout",
     "output_type": "stream",
     "text": [
      "Plurality Vote:\n",
      "defaultdict(<class 'int'>, {4: 3977, 1: 5436, 0: 4934, 3: 2172, 2: 1767})\n",
      "18286\n",
      "Winner is: 1\n"
     ]
    }
   ],
   "source": [
    "from collections import defaultdict\n",
    "def plurality_vote(preferences):\n",
    "    print(\"Plurality Vote:\")\n",
    "    votes = defaultdict(int)\n",
    "    for line in preferences:\n",
    "        votes[line[1]]+=line[0]\n",
    "    print(votes)\n",
    "    print(sum(votes.values()))\n",
    "    print(\"Winner is:\",max(votes, key = votes.get))\n",
    "plurality_vote(preferences)\n"
   ]
  },
  {
   "cell_type": "code",
   "execution_count": 83,
   "metadata": {},
   "outputs": [
    {
     "name": "stdout",
     "output_type": "stream",
     "text": [
      "percent 0.29727660505304604\n",
      "defaultdict(<class 'int'>, {4: 3977, 1: 5436, 0: 4934, 3: 2172, 2: 1767})\n",
      "[0, 1, 3, 4]\n",
      "percent 0.3227571720745122\n",
      "defaultdict(<class 'int'>, {4: 4209, 1: 5839, 0: 5491, 3: 2552})\n",
      "[0, 1, 4]\n",
      "percent 0.3728152044798914\n",
      "defaultdict(<class 'int'>, {4: 4674, 1: 6591, 0: 6414})\n",
      "[0, 1]\n",
      "percent 0.5246414122839279\n",
      "defaultdict(<class 'int'>, {1: 8559, 0: 7755})\n",
      "sum 16314\n",
      "Winner is: 1\n"
     ]
    }
   ],
   "source": [
    "import copy\n",
    "from collections import defaultdict\n",
    "def instant_runoff(preferences):\n",
    "    candidates = list(range(5))\n",
    "    pref = copy.deepcopy(preferences)\n",
    "    loser = -1\n",
    "    winner = -1\n",
    "    while len(candidates)>1:\n",
    "        votes = defaultdict(int)\n",
    "        for line in pref:\n",
    "            if len(line)>1:\n",
    "                #print(line)\n",
    "                votes[line[1]]+=line[0]\n",
    "        winner = max(votes, key = votes.get)\n",
    "        total = sum(votes.values())\n",
    "        percent = float(votes[winner])/float(total)\n",
    "        print(\"percent\", percent)\n",
    "        if(percent>0.5):\n",
    "            print(votes)\n",
    "            print(\"sum\",sum(votes.values()))\n",
    "            break\n",
    "        loser = min(votes, key = votes.get)\n",
    "        print(votes)\n",
    "#         print(sum(votes.values()))\n",
    "#         print(loser)\n",
    "        candidates.remove(loser)\n",
    "        print(candidates)\n",
    "        for line in pref:\n",
    "            if line[0] is loser:\n",
    "                if loser in line[1:]:\n",
    "                    del line[line.index(loser,1)]\n",
    "            else:\n",
    "                if loser in line:\n",
    "                    line.remove(loser)\n",
    "    print(\"Winner is:\", winner)\n",
    "instant_runoff(preferences)"
   ]
  },
  {
   "cell_type": "code",
   "execution_count": 89,
   "metadata": {},
   "outputs": [
    {
     "name": "stdout",
     "output_type": "stream",
     "text": [
      "4\n",
      "defaultdict(<class 'int'>, {4: 13613, 1: 25774, 0: 23890, 3: 14363, 2: 8499})\n",
      "9571.0\n",
      "1\n"
     ]
    }
   ],
   "source": [
    "from collections import defaultdict\n",
    "import copy\n",
    "def borda_count(preferences, candidates): \n",
    "    max_score = candidates-1\n",
    "    print(max_score)\n",
    "    pref = copy.deepcopy(preferences)\n",
    "    borda = defaultdict(int)\n",
    "    #print(pref)\n",
    "    for line in pref:\n",
    "        for i in range(1,len(line)):\n",
    "            borda[line[i]]+=(max_score-i)*line[0]\n",
    "        #print(borda)\n",
    "    print(borda)\n",
    "    print(sum(borda.values())/9)\n",
    "    winner = max(borda, key=borda.get)\n",
    "    print(winner)\n",
    "borda_count(preferences, 5)"
   ]
  },
  {
   "cell_type": "code",
   "execution_count": 90,
   "metadata": {},
   "outputs": [
    {
     "name": "stdout",
     "output_type": "stream",
     "text": [
      "defaultdict(<class 'int'>, {4: 13352, 1: 13898, 0: 13933, 2: 11603, 3: 12706})\n",
      "[0, 1, 4, 3, 2]\n"
     ]
    }
   ],
   "source": [
    "import copy\n",
    "from collections import defaultdict\n",
    "def approval_voting(preferences):\n",
    "    candidates = list(range(5))\n",
    "    pref = copy.deepcopy(preferences)\n",
    "    approval = defaultdict(int)\n",
    "    for line in pref:\n",
    "        for c in candidates:\n",
    "            if c in line[1:]:\n",
    "                approval[c]+=line[0]\n",
    "    print(approval)\n",
    "    print(sorted(approval, key=approval.get, reverse = True))\n",
    "    pass\n",
    "approval_voting(preferences)"
   ]
  },
  {
   "cell_type": "code",
   "execution_count": null,
   "metadata": {},
   "outputs": [],
   "source": []
  }
 ],
 "metadata": {
  "kernelspec": {
   "display_name": "Python 3",
   "language": "python",
   "name": "python3"
  },
  "language_info": {
   "codemirror_mode": {
    "name": "ipython",
    "version": 3
   },
   "file_extension": ".py",
   "mimetype": "text/x-python",
   "name": "python",
   "nbconvert_exporter": "python",
   "pygments_lexer": "ipython3",
   "version": "3.6.3"
  }
 },
 "nbformat": 4,
 "nbformat_minor": 2
}
